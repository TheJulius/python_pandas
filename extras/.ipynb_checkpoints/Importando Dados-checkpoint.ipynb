{
 "cells": [
  {
   "cell_type": "code",
   "execution_count": 1,
   "metadata": {},
   "outputs": [],
   "source": [
    "import pandas as pd"
   ]
  },
  {
   "cell_type": "code",
   "execution_count": 4,
   "metadata": {},
   "outputs": [
    {
     "name": "stdout",
     "output_type": "stream",
     "text": [
      "[{\"Tipo\":\"Quitinete\",\"Bairro\":\"Copacabana\",\"Quartos\":1,\"Vagas\":0,\"Suites\":0,\"Area\":40,\"Valor\":1700.0,\"Condominio\":500.0,\"IPTU\":60.0},\n",
      "{\"Tipo\":\"Casa\",\"Bairro\":\"Jardim Bot\\u00e2nico\",\"Quartos\":2,\"Vagas\":0,\"Suites\":1,\"Area\":100,\"Valor\":7000.0,\"Condominio\":null,\"IPTU\":null},\n",
      "{\"Tipo\":\"Conjunto Comercial\\/Sala\",\"Bairro\":\"Barra da Tijuca\",\"Quartos\":0,\"Vagas\":4,\"Suites\":0,\"Area\":150,\"Valor\":5200.0,\"Condominio\":4020.0,\"IPTU\":1111.0},\n",
      "{\"Tipo\":\"Apartamento\",\"Bairro\":\"Centro\",\"Quartos\":1,\"Vagas\":0,\"Suites\":0,\"Area\":15,\"Valor\":800.0,\"Condominio\":390.0,\"IPTU\":20.0},\n",
      "{\"Tipo\":\"Apartamento\",\"Bairro\":\"Higien\\u00f3polis\",\"Quartos\":1,\"Vagas\":0,\"Suites\":0,\"Area\":48,\"Valor\":800.0,\"Condominio\":230.0,\"IPTU\":null},\n",
      "{\"Tipo\":\"Apartamento\",\"Bairro\":\"Vista Alegre\",\"Quartos\":3,\"Vagas\":1,\"Suites\":0,\"Area\":70,\"Valor\":1200.0,\"Condominio\":null,\"IPTU\":null},\n",
      "{\"Tipo\":\"Apartamento\",\"Bairro\":\"Cachambi\",\"Quartos\":2,\"Vagas\":0,\"Suites\":0,\"Area\":50,\"Valor\":1300.0,\"Condominio\":301.0,\"IPTU\":17.0},\n",
      "{\"Tipo\":\"Casa de Condom\\u00ednio\",\"Bairro\":\"Barra da Tijuca\",\"Quartos\":5,\"Vagas\":4,\"Suites\":5,\"Area\":750,\"Valor\":22000.0,\"Condominio\":null,\"IPTU\":null},\n",
      "{\"Tipo\":\"Casa de Condom\\u00ednio\",\"Bairro\":\"Ramos\",\"Quartos\":2,\"Vagas\":2,\"Suites\":0,\"Area\":65,\"Valor\":1000.0,\"Condominio\":null,\"IPTU\":null},\n",
      "{\"Tipo\":\"Conjunto Comercial\\/Sala\",\"Bairro\":\"Centro\",\"Quartos\":0,\"Vagas\":3,\"Suites\":0,\"Area\":695,\"Valor\":35000.0,\"Condominio\":19193.0,\"IPTU\":3030.0}]\n"
     ]
    }
   ],
   "source": [
    "json = open(\"dados/aluguel.json\")\n",
    "print(json.read())"
   ]
  },
  {
   "cell_type": "code",
   "execution_count": null,
   "metadata": {},
   "outputs": [],
   "source": []
  }
 ],
 "metadata": {
  "kernelspec": {
   "display_name": "Python 3",
   "language": "python",
   "name": "python3"
  },
  "language_info": {
   "codemirror_mode": {
    "name": "ipython",
    "version": 3
   },
   "file_extension": ".py",
   "mimetype": "text/x-python",
   "name": "python",
   "nbconvert_exporter": "python",
   "pygments_lexer": "ipython3",
   "version": "3.6.10"
  }
 },
 "nbformat": 4,
 "nbformat_minor": 4
}
